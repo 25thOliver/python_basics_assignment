{
 "cells": [
  {
   "cell_type": "markdown",
   "id": "31e058a3",
   "metadata": {},
   "source": [
    "## SECTION 1: VARIABLES AND USER INPUT"
   ]
  },
  {
   "cell_type": "code",
   "execution_count": 1,
   "id": "3a5d3b10",
   "metadata": {},
   "outputs": [
    {
     "name": "stdout",
     "output_type": "stream",
     "text": [
      "My age is: 25\n"
     ]
    }
   ],
   "source": [
    "# Exercise 1.1: Declare a variable named age\n",
    "age = 25\n",
    "print(f\"My age is: {age}\")"
   ]
  },
  {
   "cell_type": "code",
   "execution_count": 2,
   "id": "b9a1c552",
   "metadata": {},
   "outputs": [
    {
     "name": "stdout",
     "output_type": "stream",
     "text": [
      "Sum of 6 and 9 is 15\n"
     ]
    }
   ],
   "source": [
    "# Exercise 1.2: Create variable x and y, print their sum\n",
    "x = 6\n",
    "y = 9\n",
    "print(f\"Sum of {x} and {y} is {x + y}\")"
   ]
  },
  {
   "cell_type": "code",
   "execution_count": 6,
   "id": "eac22560",
   "metadata": {},
   "outputs": [
    {
     "name": "stdout",
     "output_type": "stream",
     "text": [
      "Inalid variable names like '2ndName' will cause a syntax error because they start with a number.\n"
     ]
    }
   ],
   "source": [
    "# Exercise 1.3: Invalid name demonstration\n",
    "# Uncomment the line below to see the error\n",
    "# 2ndName = \"Invalid\"\n",
    "\n",
    "print(\"Inalid variable names like '2ndName' will cause a syntax error because they start with a number.\")"
   ]
  },
  {
   "cell_type": "code",
   "execution_count": 8,
   "id": "3a80b7f2",
   "metadata": {},
   "outputs": [
    {
     "name": "stdout",
     "output_type": "stream",
     "text": [
      "Hi, how are you?\n"
     ]
    }
   ],
   "source": [
    "# Exercise 1.4: Asssign a string to a variable\n",
    "greeetings = \"Hi, how are you?\"\n",
    "print(greeetings)"
   ]
  },
  {
   "cell_type": "code",
   "execution_count": 10,
   "id": "23505dd3",
   "metadata": {},
   "outputs": [],
   "source": [
    "# Challenge 1: Name and age greeting program\n",
    "def greeting_program():\n",
    "    print(\"Welcome to the Greeting Program!\")\n",
    "    name = input(\"Please enter your name: \")\n",
    "    age = input(\"Please enter your age: \")\n",
    "    print(f\"Hello {name}! You are {age} years old.\")"
   ]
  },
  {
   "cell_type": "code",
   "execution_count": 11,
   "id": "ee86e0fc",
   "metadata": {},
   "outputs": [
    {
     "name": "stdout",
     "output_type": "stream",
     "text": [
      "Welcome to the Greeting Program!\n",
      "Hello Anita! You are 32 years old.\n"
     ]
    }
   ],
   "source": [
    "greeting_program()"
   ]
  }
 ],
 "metadata": {
  "kernelspec": {
   "display_name": "Python 3",
   "language": "python",
   "name": "python3"
  },
  "language_info": {
   "codemirror_mode": {
    "name": "ipython",
    "version": 3
   },
   "file_extension": ".py",
   "mimetype": "text/x-python",
   "name": "python",
   "nbconvert_exporter": "python",
   "pygments_lexer": "ipython3",
   "version": "3.12.7"
  }
 },
 "nbformat": 4,
 "nbformat_minor": 5
}
