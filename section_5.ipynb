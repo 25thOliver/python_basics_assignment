{
 "cells": [
  {
   "cell_type": "markdown",
   "id": "d99059e9",
   "metadata": {},
   "source": [
    "## SECTION 5: CONDITIONAL STATEMENTS"
   ]
  },
  {
   "cell_type": "code",
   "execution_count": 1,
   "id": "a18ac99d",
   "metadata": {},
   "outputs": [],
   "source": [
    "# Exercise 5.1: Positive, negative or zero\n",
    "def check_number_sign():\n",
    "    try:\n",
    "        number = float(input(\"Enter a number: \"))\n",
    "        if number > 0:\n",
    "            print(\"The number is Positive\")\n",
    "        elif number < 0:\n",
    "            print(\"The number is negative\")\n",
    "        else:\n",
    "            print(\"The number is zero\")\n",
    "    except ValueError:\n",
    "        print(\"Please enter a valid number!\")"
   ]
  },
  {
   "cell_type": "code",
   "execution_count": 5,
   "id": "331d3b27",
   "metadata": {},
   "outputs": [
    {
     "name": "stdout",
     "output_type": "stream",
     "text": [
      "Please enter a valid number!\n"
     ]
    }
   ],
   "source": [
    "check_number_sign()"
   ]
  },
  {
   "cell_type": "code",
   "execution_count": 13,
   "id": "a7335894",
   "metadata": {},
   "outputs": [
    {
     "name": "stdout",
     "output_type": "stream",
     "text": [
      "You are not eligible to vote.\n"
     ]
    }
   ],
   "source": [
    "# Exercise 5.2: Voting eligibility\n",
    "def voting_eligibility_kenya(age):\n",
    "    try:\n",
    "        age = int(age)\n",
    "        if age >= 18:\n",
    "            print(\"You are eligible to vote.\")\n",
    "        else:\n",
    "            print(\"You are not eligible to vote.\")\n",
    "    except ValueError:\n",
    "        print(\"Invalid input. Please enter a valid age.\")\n",
    "voting_eligibility_kenya(input(\"Enter your age: \"))"
   ]
  },
  {
   "cell_type": "code",
   "execution_count": 14,
   "id": "62712e7c",
   "metadata": {},
   "outputs": [],
   "source": [
    "# Exercise 5.3: Largest of three numbers\n",
    "def largest_of_three(num1, num2, num3):\n",
    "    if num1 >= num2 and num1 >= num3:\n",
    "        largest = num1\n",
    "    elif num2 >= num1 and num2 >= num3:\n",
    "        largest = num2\n",
    "    else:\n",
    "        largest = num3\n",
    "    print(f\"The largest number among {num1}, {num2}, and {num3} is {largest}.\")"
   ]
  },
  {
   "cell_type": "code",
   "execution_count": 18,
   "id": "13d9f7c7",
   "metadata": {},
   "outputs": [
    {
     "name": "stdout",
     "output_type": "stream",
     "text": [
      "The largest number among 110, 110, and 115 is 115.\n"
     ]
    }
   ],
   "source": [
    "largest_of_three(110, 110, 115)"
   ]
  },
  {
   "cell_type": "code",
   "execution_count": 19,
   "id": "516d0aa0",
   "metadata": {},
   "outputs": [
    {
     "name": "stdout",
     "output_type": "stream",
     "text": [
      "a = True, b = False, c = True\n",
      "a and b = False\n",
      "a or b = True\n",
      "not a = False\n",
      "(a and b) or c = True\n",
      "a and (b or c) = True\n",
      "not (a and c) = False\n",
      "(a or b) and (b or c) = True\n"
     ]
    }
   ],
   "source": [
    "# Exercise 5.4: Logical operators demonstration\n",
    "a, b, c = True, False, True\n",
    "\n",
    "print(f\"a = {a}, b = {b}, c = {c}\")\n",
    "print(f\"a and b = {a and b}\")\n",
    "print(f\"a or b = {a or b}\")\n",
    "print(f\"not a = {not a}\")\n",
    "print(f\"(a and b) or c = {(a and b) or c}\")\n",
    "print(f\"a and (b or c) = {a and (b or c)}\")\n",
    "print(f\"not (a and c) = {not (a and c)}\")\n",
    "print(f\"(a or b) and (b or c) = {(a or b) and (b or c)}\")"
   ]
  },
  {
   "cell_type": "code",
   "execution_count": 27,
   "id": "52748897",
   "metadata": {},
   "outputs": [],
   "source": [
    "# Challenge 5: Grading system\n",
    "def grading_system(score):\n",
    "    try:\n",
    "        score = float(score)\n",
    "        if score < 0 or score > 100:\n",
    "            print(\"Score must be between 0 and 100.\")\n",
    "            return\n",
    "    except ValueError:\n",
    "        print(\"Invalid input. Please enter a numeric score.\")\n",
    "        return\n",
    "    if score >= 80:\n",
    "        print(\"Grade: A\")\n",
    "    elif score >= 60:\n",
    "        print(\"Grade: B\")\n",
    "    elif score >= 50:\n",
    "        print(\"Grade: C\")\n",
    "    elif score >= 40:\n",
    "        print(\"Grade: D\")\n",
    "    else:\n",
    "        print(\"Grade: F\")"
   ]
  },
  {
   "cell_type": "code",
   "execution_count": 28,
   "id": "e88ec009",
   "metadata": {},
   "outputs": [
    {
     "name": "stdout",
     "output_type": "stream",
     "text": [
      "Grade: F\n"
     ]
    }
   ],
   "source": [
    "grading_system(input(\"Enter your score (0-100): \"))"
   ]
  }
 ],
 "metadata": {
  "kernelspec": {
   "display_name": "Python 3",
   "language": "python",
   "name": "python3"
  },
  "language_info": {
   "codemirror_mode": {
    "name": "ipython",
    "version": 3
   },
   "file_extension": ".py",
   "mimetype": "text/x-python",
   "name": "python",
   "nbconvert_exporter": "python",
   "pygments_lexer": "ipython3",
   "version": "3.12.7"
  }
 },
 "nbformat": 4,
 "nbformat_minor": 5
}
