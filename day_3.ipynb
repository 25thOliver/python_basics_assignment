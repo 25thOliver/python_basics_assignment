{
 "cells": [
  {
   "cell_type": "code",
   "execution_count": 1,
   "id": "cf4c686a",
   "metadata": {},
   "outputs": [
    {
     "name": "stdout",
     "output_type": "stream",
     "text": [
      "You are an adult\n"
     ]
    }
   ],
   "source": [
    "# Control flows determines the order in which statements are executed in a program\n",
    "# 1. conditional statements, 2. loops 3. loop control statements\n",
    "\n",
    "#1. conditional statements\n",
    "#a. if-statement - execute a block of code if a condition is true\n",
    "\n",
    "age = 20\n",
    "if age >= 18:\n",
    "    print(\"You are an adult\")"
   ]
  },
  {
   "cell_type": "code",
   "execution_count": 2,
   "id": "e5605848",
   "metadata": {},
   "outputs": [
    {
     "name": "stdout",
     "output_type": "stream",
     "text": [
      "Youngin\n"
     ]
    }
   ],
   "source": [
    "# if-else statement - executes one block if the condition is true, otherwise execute another block\n",
    "age = 9\n",
    "if age >= 18:\n",
    "    print(\"Adult\")\n",
    "else:\n",
    "    print(\"Youngin\")"
   ]
  },
  {
   "cell_type": "code",
   "execution_count": 4,
   "id": "98c6141c",
   "metadata": {},
   "outputs": [
    {
     "name": "stdout",
     "output_type": "stream",
     "text": [
      "Grade: A\n"
     ]
    }
   ],
   "source": [
    "score = int(input(\"Student score: \"))\n",
    "if score >= 90:\n",
    "    print(\"Grade: A\")\n",
    "elif score >= 80:\n",
    "    print(\"Grade: B\")\n",
    "elif score >= 70:\n",
    "    print(\"Grade: C\")\n",
    "elif score >= 60:\n",
    "    print(\"Grade: D\")\n",
    "else:\n",
    "    print(\"Grade: F\")"
   ]
  },
  {
   "cell_type": "code",
   "execution_count": 5,
   "id": "84fe48e6",
   "metadata": {},
   "outputs": [
    {
     "name": "stdout",
     "output_type": "stream",
     "text": [
      "You've successfully registered!\n"
     ]
    }
   ],
   "source": [
    "email = input(\"Enter your email address: \")\n",
    "\n",
    "if email == email:\n",
    "    print(\"You've successfully registered!\")\n",
    "else:\n",
    "    print(\"Wrong mail\")"
   ]
  },
  {
   "cell_type": "code",
   "execution_count": 6,
   "id": "b049beb4",
   "metadata": {},
   "outputs": [
    {
     "name": "stdout",
     "output_type": "stream",
     "text": [
      "Invalid\n"
     ]
    }
   ],
   "source": [
    "num_1 = 34\n",
    "num_2 = 67\n",
    "\n",
    "if num_1 and not num_2:\n",
    "    print(num_1 * 2)\n",
    "else:\n",
    "    print(\"Invalid\")"
   ]
  },
  {
   "cell_type": "code",
   "execution_count": 7,
   "id": "c83bf7b4",
   "metadata": {},
   "outputs": [],
   "source": [
    "x = True\n",
    "if not x:\n",
    "    print(\"False\")"
   ]
  },
  {
   "cell_type": "code",
   "execution_count": 8,
   "id": "72d55360",
   "metadata": {},
   "outputs": [
    {
     "name": "stdout",
     "output_type": "stream",
     "text": [
      "True\n"
     ]
    }
   ],
   "source": [
    "y = False\n",
    "if not y:\n",
    "    print(\"True\")"
   ]
  },
  {
   "cell_type": "code",
   "execution_count": null,
   "id": "3e4c0068",
   "metadata": {},
   "outputs": [
    {
     "name": "stdout",
     "output_type": "stream",
     "text": [
      "1\n",
      "4\n",
      "9\n",
      "16\n",
      "25\n",
      "36\n",
      "49\n",
      "64\n",
      "81\n"
     ]
    }
   ],
   "source": [
    "# Loops -\n",
    "# 1. For loop - used for iterating over sequences\n",
    "numbers = [1,2,3,4,5,6,7,8,9]\n",
    "for num in numbers:\n",
    "    squares = num * num\n",
    "    print(squares) \n",
    "\n",
    "\n",
    "\n",
    "\n"
   ]
  },
  {
   "cell_type": "code",
   "execution_count": 10,
   "id": "d2104578",
   "metadata": {},
   "outputs": [
    {
     "name": "stdout",
     "output_type": "stream",
     "text": [
      "Mango\n",
      "Watermelon\n",
      "Oranges\n",
      "Guava\n"
     ]
    }
   ],
   "source": [
    "fruits = ['MAngo', 'WatERmelon', 'ORaNGes', 'guava']\n",
    "for fruit in fruits:\n",
    "    fruity =fruit.capitalize()\n",
    "    print(fruity)"
   ]
  },
  {
   "cell_type": "code",
   "execution_count": 11,
   "id": "70a5d1f2",
   "metadata": {},
   "outputs": [
    {
     "name": "stdout",
     "output_type": "stream",
     "text": [
      "18388.8\n",
      "104239.2\n",
      "94680.0\n",
      "108969.59999999999\n"
     ]
    }
   ],
   "source": [
    "salaries = [15324, 86866, 78900, 90808]\n",
    "for salary in salaries:\n",
    "    inc = salary*1.2\n",
    "    print(inc)"
   ]
  },
  {
   "cell_type": "code",
   "execution_count": 14,
   "id": "0cfadc1f",
   "metadata": {},
   "outputs": [
    {
     "name": "stdout",
     "output_type": "stream",
     "text": [
      "4\n",
      "5\n",
      "6\n",
      "7\n",
      "8\n",
      "9\n",
      "10\n",
      "11\n",
      "12\n",
      "13\n",
      "14\n",
      "15\n",
      "16\n",
      "17\n",
      "18\n",
      "19\n",
      "20\n",
      "21\n",
      "22\n",
      "23\n",
      "24\n",
      "25\n",
      "26\n",
      "27\n",
      "28\n",
      "29\n",
      "30\n"
     ]
    }
   ],
   "source": [
    "\n",
    "# 2. While loop - executes a block of code as long as the condition is true\n",
    "num = 4\n",
    "while num <= 30:\n",
    "    print(num)\n",
    "    num = num + 1"
   ]
  },
  {
   "cell_type": "markdown",
   "id": "57fdf0c7",
   "metadata": {},
   "source": [
    "Loop Control Flows"
   ]
  },
  {
   "cell_type": "code",
   "execution_count": null,
   "id": "dbbfc5f6",
   "metadata": {},
   "outputs": [],
   "source": [
    "# break - pass - continue"
   ]
  },
  {
   "cell_type": "code",
   "execution_count": 15,
   "id": "80932c57",
   "metadata": {},
   "outputs": [
    {
     "name": "stdout",
     "output_type": "stream",
     "text": [
      "0 1 2 3 4 5 6 7 8 9 10 11 12 13 14 15 16 17 18 "
     ]
    }
   ],
   "source": [
    "for num in range(23):\n",
    "    if num == 19:\n",
    "        break\n",
    "    print(num, end=\" \")"
   ]
  },
  {
   "cell_type": "code",
   "execution_count": 16,
   "id": "14f69e3d",
   "metadata": {},
   "outputs": [
    {
     "name": "stdout",
     "output_type": "stream",
     "text": [
      "0 1 2 3 4 5 6 7 8 9 10 11 12 13 14 15 16 17 18 20 21 22 "
     ]
    }
   ],
   "source": [
    "for num in range(23):\n",
    "    if num == 19:\n",
    "        continue\n",
    "    print(num, end=\" \")"
   ]
  },
  {
   "cell_type": "code",
   "execution_count": 18,
   "id": "4c4ed1c1",
   "metadata": {},
   "outputs": [],
   "source": [
    "# Function - is a block of code that performs a specific task\n",
    "# Can be created without a parameter\n",
    "\n",
    "def inc_meter():\n",
    "    salaries = [15324, 86866, 78900, 90808]\n",
    "    for salary in salaries:\n",
    "        inc = salary*1.2\n",
    "        print(inc)\n",
    "    "
   ]
  },
  {
   "cell_type": "code",
   "execution_count": 19,
   "id": "688b3efe",
   "metadata": {},
   "outputs": [
    {
     "name": "stdout",
     "output_type": "stream",
     "text": [
      "18388.8\n",
      "104239.2\n",
      "94680.0\n",
      "108969.59999999999\n"
     ]
    }
   ],
   "source": [
    "inc_meter()"
   ]
  },
  {
   "cell_type": "code",
   "execution_count": 22,
   "id": "0b64f950",
   "metadata": {},
   "outputs": [],
   "source": [
    "def clean(names):\n",
    "    names = [name.title() for name in names]\n",
    "    print(names)"
   ]
  },
  {
   "cell_type": "code",
   "execution_count": 21,
   "id": "ad0f19b6",
   "metadata": {},
   "outputs": [
    {
     "name": "stdout",
     "output_type": "stream",
     "text": [
      "['Becky Nyawanga', 'Owino Bill', 'Nawiri Melsa']\n"
     ]
    }
   ],
   "source": [
    "names = ['bECky nYawanga', 'OWIno bILL', 'NAwirI MelSA']\n",
    "clean( names)"
   ]
  },
  {
   "cell_type": "markdown",
   "id": "ceff0212",
   "metadata": {},
   "source": [
    "## Object-Oriented Programming\n",
    "\n",
    "- OOP - is aprogramming paradigm that uses ojects and classes to map with real-world scenarios.\n",
    "- This approach makes the code organized, reusable and easier to understand.\n",
    "\n",
    "### Class & Object in Python\n",
    "- A class is a blueprint for creating objects.\n",
    "- Object is a specific implementation of a class."
   ]
  },
  {
   "cell_type": "code",
   "execution_count": 2,
   "id": "aa0460da",
   "metadata": {},
   "outputs": [
    {
     "data": {
      "text/plain": [
       "'Shiv'"
      ]
     },
     "execution_count": 2,
     "metadata": {},
     "output_type": "execute_result"
    }
   ],
   "source": [
    "# Basic class\n",
    "# class - pascal naming convention(begins in uppercase)\n",
    "class Student:\n",
    "    name = 'Shiv' # class attribute\n",
    "    age = 20 # class attribute\n",
    "   \n",
    "# Create object -instance of a class\n",
    "s1 = Student() # s1 is an instance of the Student class\n",
    "s1.name"
   ]
  },
  {
   "cell_type": "markdown",
   "id": "0ac6bc48",
   "metadata": {},
   "source": [
    "## Class and Instance Attributes\n",
    "\n",
    "- Class attributes: \n",
    "1. Belong to the class itself\n",
    "2. Shared by all instances of the class\n",
    "\n",
    "- Instance Attribute\n",
    "1. They belong to specific objects\n",
    "2. They are different for each instance\n",
    "\n",
    "## init function(Constructor)\n",
    "- The __init__() function is a special method called a constructor.\n",
    "- It is automatically executed when an objectis created.\n",
    "\n",
    "### Purpose\n",
    "1. Initialize object attributes\n",
    "2. Set up the objects initial state\n",
    "3. Perform any setup required when creating an object\n",
    "\n",
    "## Self Parameter\n",
    "- Self is a reference to the current instance of the class.\n",
    "- It's used to access variables and methods that belong to the class.\n",
    "- Must be first parameter in all instance methods."
   ]
  },
  {
   "cell_type": "code",
   "execution_count": 7,
   "id": "7acac86d",
   "metadata": {},
   "outputs": [],
   "source": [
    "class Student:\n",
    "    def __init__(self, name, age, grade):\n",
    "        self.name = name  # instance attribute\n",
    "        self.age = age    # instance attribute\n",
    "        self.grade = grade  # instance attribute   \n",
    "\n",
    "    def greet(self):\n",
    "        return f\"Hello, my name is {self.name} and I am {self.age} years old. My grade is {self.grade}.\"\n",
    "\n",
    "    "
   ]
  },
  {
   "cell_type": "code",
   "execution_count": 12,
   "id": "92b78c52",
   "metadata": {},
   "outputs": [
    {
     "data": {
      "text/plain": [
       "'Hello, my name is Mariatu Kamara and I am 23 years old. My grade is C.'"
      ]
     },
     "execution_count": 12,
     "metadata": {},
     "output_type": "execute_result"
    }
   ],
   "source": [
    "s1 = [\n",
    "    Student(\"Juma Becy\", 21, \"A\"),\n",
    "    Student(\"Sarah Kinyanjui\", 22, \"B\"),\n",
    "    Student(\"Mariatu Kamara\", 23, \"C\"),\n",
    "    Student(\"Leo Injai\", 24, \"D\"),\n",
    "    Student(\"Aime Khamis\", 25, \"E\")\n",
    "]\n",
    "s1[2].greet()\n",
    "#for student in s1:\n",
    "    #print(student.greet())"
   ]
  },
  {
   "cell_type": "markdown",
   "id": "fb979826",
   "metadata": {},
   "source": [
    "## Methods\n",
    "- Methods are functions that belong to a class, and can operate on class attribute.\n",
    "- They define the behavior of objects"
   ]
  },
  {
   "cell_type": "code",
   "execution_count": 17,
   "id": "2797631b",
   "metadata": {},
   "outputs": [],
   "source": [
    "class Student:\n",
    "    def __init__(self, name, age):  # constructor method\n",
    "        self.name = name  # instance attribute\n",
    "        self.age = age    # instance attribute\n",
    "\n",
    "    # Greeting Method\n",
    "    def greet(self, intro='Hello'):\n",
    "        return f\"{intro}, my name is {self.name} and I am {self.age} years old.\"\n",
    "\n",
    "    # Wish Method\n",
    "    def wish(self):\n",
    "        self.age = self.age + 1  # Increment age by 1   \n",
    "        return f\" Happy Happy Birthday! Now I'm {self.age} years old!\""
   ]
  },
  {
   "cell_type": "code",
   "execution_count": 22,
   "id": "35ac1a49",
   "metadata": {},
   "outputs": [
    {
     "data": {
      "text/plain": [
       "'Hello, my name is Mariatu Kamara and I am 17 years old.'"
      ]
     },
     "execution_count": 22,
     "metadata": {},
     "output_type": "execute_result"
    }
   ],
   "source": [
    "s1 = Student(\"Mariatu Kamara\", 17)\n",
    "s1.greet()\n",
    "#s1.wish()"
   ]
  },
  {
   "cell_type": "markdown",
   "id": "3c01e218",
   "metadata": {},
   "source": [
    "- create an account class with two attributes(balance, account_no)\n",
    "- create methods - debit, credit, print the balance"
   ]
  },
  {
   "cell_type": "code",
   "execution_count": null,
   "id": "f29fcf16",
   "metadata": {},
   "outputs": [],
   "source": [
    "class Account:\n",
    "    def __init__(self, balance, account_no):\n",
    "        self.balance = balance\n",
    "        self.account_no = account_no\n",
    "\n",
    "    # Debit Method\n",
    "    def debit(self, amount):\n",
    "        if amount <= self.balance:\n",
    "            self.balance -= amount\n",
    "            print(f\"Debited {amount}. New balance: {self.balance}\")\n",
    "        else:\n",
    "            print(\"Insufficient funds\")\n",
    "\n",
    "    #Credit Method\n",
    "    def credit(self, amount):\n",
    "        self.balance += amount\n",
    "        print(f\"Credited {amount}. New balance: {self.balance}\")\n",
    "\n",
    "    # Print Balance\n",
    "    def print_balance(self):\n",
    "        print(f\"Current balance: {self.balance}\")"
   ]
  },
  {
   "cell_type": "code",
   "execution_count": 34,
   "id": "628d5538",
   "metadata": {},
   "outputs": [
    {
     "name": "stdout",
     "output_type": "stream",
     "text": [
      "Credited 500. New balance: 4000\n",
      "None\n",
      "Account No: 123456789, Initial Balance: 4000, Current Balance: 4000\n"
     ]
    }
   ],
   "source": [
    "customer_account = Account(3500, \"123456789\")\n",
    "print(customer_account.credit(500))\n",
    "print\n",
    "print(f\"Account No: {customer_account.account_no}, Initial Balance: {customer_account.balance}, Current Balance: {customer_account.balance}\")"
   ]
  },
  {
   "cell_type": "code",
   "execution_count": null,
   "id": "056f5ce2",
   "metadata": {},
   "outputs": [],
   "source": []
  }
 ],
 "metadata": {
  "kernelspec": {
   "display_name": "Python 3",
   "language": "python",
   "name": "python3"
  },
  "language_info": {
   "codemirror_mode": {
    "name": "ipython",
    "version": 3
   },
   "file_extension": ".py",
   "mimetype": "text/x-python",
   "name": "python",
   "nbconvert_exporter": "python",
   "pygments_lexer": "ipython3",
   "version": "3.12.7"
  }
 },
 "nbformat": 4,
 "nbformat_minor": 5
}
