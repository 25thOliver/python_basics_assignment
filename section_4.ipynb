{
 "cells": [
  {
   "cell_type": "markdown",
   "id": "361a30ac",
   "metadata": {},
   "source": [
    "## SECTION 4: LOOPS"
   ]
  },
  {
   "cell_type": "code",
   "execution_count": 1,
   "id": "724e36a3",
   "metadata": {},
   "outputs": [
    {
     "name": "stdout",
     "output_type": "stream",
     "text": [
      "Numbers 1 to 10 using for loop:\n",
      "1 2 3 4 5 6 7 8 9 10 \n"
     ]
    }
   ],
   "source": [
    "# Exercise 4.1: For loop 1 to 10\n",
    "print(\"Numbers 1 to 10 using for loop:\")\n",
    "for i in range(1, 11):\n",
    "    print(i, end=' ')\n",
    "print()"
   ]
  },
  {
   "cell_type": "code",
   "execution_count": 3,
   "id": "bead00ab",
   "metadata": {},
   "outputs": [
    {
     "name": "stdout",
     "output_type": "stream",
     "text": [
      "Enter values (type 'stop' to finish):\n"
     ]
    }
   ],
   "source": [
    "# Exercise 4.2: While loop until user enters 'stop'\n",
    "user_input = \"\"\n",
    "print(\"Enter values (type 'stop' to finish):\")\n",
    "while user_input.lower() != \"stop\":\n",
    "    user_input = input(\"Value: \")"
   ]
  },
  {
   "cell_type": "code",
   "execution_count": 4,
   "id": "a1603099",
   "metadata": {},
   "outputs": [
    {
     "name": "stdout",
     "output_type": "stream",
     "text": [
      "Even numbers from 1 to 20:\n",
      "2 4 6 8 10 12 14 16 18 20 \n"
     ]
    }
   ],
   "source": [
    "# Exercise 4.3: Even numbers 1 to 20\n",
    "print(\"Even numbers from 1 to 20:\")\n",
    "for i in range(1, 21):\n",
    "    if i % 2 == 0:\n",
    "        print(i, end=' ')\n",
    "print()"
   ]
  },
  {
   "cell_type": "markdown",
   "id": "6458cf39",
   "metadata": {},
   "source": [
    "'break': Exits the loop completely\n",
    "\n",
    "'continue': Skips the rest of the current iteration and goes to the next"
   ]
  },
  {
   "cell_type": "code",
   "execution_count": 9,
   "id": "e526bc3d",
   "metadata": {},
   "outputs": [
    {
     "name": "stdout",
     "output_type": "stream",
     "text": [
      "Guess the number (between 1 and 10):\n",
      "Too high! Try again.\n",
      "Too low! Try again.\n",
      "Too high! Try again.\n",
      "Too high! Try again.\n",
      "Too high! Try again.\n",
      "Congratulations! You've guessed the number.\n"
     ]
    }
   ],
   "source": [
    "# Challenge 4: Guessing game\n",
    "import random\n",
    "number_to_guess = random.randint(1, 10)\n",
    "\n",
    "print(\"Guess the number (between 1 and 10):\")\n",
    "user_guess = int(input(\"Your guess: \"))\n",
    "while user_guess != number_to_guess:\n",
    "    if user_guess < number_to_guess:\n",
    "        print(\"Too low! Try again.\")\n",
    "    else:\n",
    "        print(\"Too high! Try again.\")\n",
    "    user_guess = int(input(\"Your guess: \"))\n",
    "print(\"Congratulations! You've guessed the number.\")"
   ]
  }
 ],
 "metadata": {
  "kernelspec": {
   "display_name": "Python 3",
   "language": "python",
   "name": "python3"
  },
  "language_info": {
   "codemirror_mode": {
    "name": "ipython",
    "version": 3
   },
   "file_extension": ".py",
   "mimetype": "text/x-python",
   "name": "python",
   "nbconvert_exporter": "python",
   "pygments_lexer": "ipython3",
   "version": "3.12.7"
  }
 },
 "nbformat": 4,
 "nbformat_minor": 5
}
