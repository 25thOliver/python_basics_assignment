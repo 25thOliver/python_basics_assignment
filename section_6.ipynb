{
 "cells": [
  {
   "cell_type": "markdown",
   "id": "3b01a8a4",
   "metadata": {},
   "source": [
    "## SECTION 6: FUNCTIONS"
   ]
  },
  {
   "cell_type": "code",
   "execution_count": 12,
   "id": "c27058dd",
   "metadata": {},
   "outputs": [
    {
     "name": "stdout",
     "output_type": "stream",
     "text": [
      "Hello, Watebwa!\n",
      "Hello, Bubani!\n"
     ]
    }
   ],
   "source": [
    "# Exercise 6.1: Greet Function\n",
    "def greet(name):\n",
    "    print(f\"Hello, {name}!\")\n",
    "\n",
    "greet(\"Watebwa\")\n",
    "greet(\"Bubani\")"
   ]
  },
  {
   "cell_type": "code",
   "execution_count": 13,
   "id": "6ce28fbc",
   "metadata": {},
   "outputs": [
    {
     "name": "stdout",
     "output_type": "stream",
     "text": [
      "The sum of 5 and 7 is 12.\n"
     ]
    }
   ],
   "source": [
    "# Exercise 6.2: Add Function\n",
    "def add(a, b):\n",
    "    return a + b\n",
    "result = add(5, 7)\n",
    "print(f\"The sum of 5 and 7 is {result}.\")"
   ]
  },
  {
   "cell_type": "code",
   "execution_count": 14,
   "id": "b20640a7",
   "metadata": {},
   "outputs": [
    {
     "name": "stdout",
     "output_type": "stream",
     "text": [
      "The sum of 5 and 8 is 13, which is odd.\n"
     ]
    }
   ],
   "source": [
    "# Exercise 6.3: Modified add function with even/odd check\n",
    "def add(a, b):\n",
    "    result = a + b\n",
    "    if result % 2 == 0:\n",
    "        print(f\"The sum of {a} and {b} is {result}, which is even.\")\n",
    "    else:\n",
    "        print(f\"The sum of {a} and {b} is {result}, which is odd.\")\n",
    "    return result\n",
    "result = add(5, 8)  "
   ]
  },
  {
   "cell_type": "code",
   "execution_count": 15,
   "id": "5c090231",
   "metadata": {},
   "outputs": [],
   "source": [
    "# Exercise 6.4: Function calling another function\n",
    "def multiply(a, b):\n",
    "    return a * b\n",
    "\n",
    "def rectangle_area(length, width):\n",
    "    area = multiply(length, width)\n",
    "    print\n",
    "    return area\n"
   ]
  },
  {
   "cell_type": "code",
   "execution_count": 16,
   "id": "a92b9bf9",
   "metadata": {},
   "outputs": [
    {
     "name": "stdout",
     "output_type": "stream",
     "text": [
      "The area of the rectangle is 50.\n"
     ]
    }
   ],
   "source": [
    "rectangle_area = rectangle_area(5, 10)\n",
    "print(f\"The area of the rectangle is {rectangle_area}.\")"
   ]
  },
  {
   "cell_type": "code",
   "execution_count": 17,
   "id": "68a1f310",
   "metadata": {},
   "outputs": [],
   "source": [
    "# Challenge 6: Calculator function\n",
    "def calc(a, b, operation):\n",
    "    if operation == \"+\":\n",
    "        return add(a, b)\n",
    "    elif operation == \"*\":\n",
    "        return multiply(a, b)\n",
    "    elif operation == \"-\":\n",
    "        return a - b\n",
    "    elif operation == \"/\":\n",
    "        return a / b if b != 0 else \"Division by zero error\"\n",
    "    else:\n",
    "        return \"Invalid operation\"\n"
   ]
  },
  {
   "cell_type": "code",
   "execution_count": 19,
   "id": "dd1fdc05",
   "metadata": {},
   "outputs": [
    {
     "name": "stdout",
     "output_type": "stream",
     "text": [
      "The sum of 10 and 5 is 15, which is odd.\n",
      "The sum is: 15\n",
      "The product is: 50\n",
      "The difference is: 5\n",
      "The quotient is: 2.0\n",
      "The result is: Division by zero error\n",
      "The result is: Invalid operation\n"
     ]
    }
   ],
   "source": [
    "# Calculator function usage\n",
    "print(\"The sum is:\", calc(10, 5, \"+\"))  # Addition\n",
    "print(\"The product is:\", calc(10, 5, \"*\"))  # Multiplication\n",
    "print(\"The difference is:\", calc(10, 5, \"-\"))  # Subtraction\n",
    "print(\"The quotient is:\", calc(10, 5, \"/\"))  # Division\n",
    "print(\"The result is:\", calc(10, 0, \"/\"))  # Division by zero\n",
    "print(\"The result is:\", calc(10, 5, \"^\"))  # Invalid operation\n"
   ]
  }
 ],
 "metadata": {
  "kernelspec": {
   "display_name": "Python 3",
   "language": "python",
   "name": "python3"
  },
  "language_info": {
   "codemirror_mode": {
    "name": "ipython",
    "version": 3
   },
   "file_extension": ".py",
   "mimetype": "text/x-python",
   "name": "python",
   "nbconvert_exporter": "python",
   "pygments_lexer": "ipython3",
   "version": "3.12.7"
  }
 },
 "nbformat": 4,
 "nbformat_minor": 5
}
