{
 "cells": [
  {
   "cell_type": "markdown",
   "id": "67015c5b",
   "metadata": {},
   "source": [
    "## SECTION 2: DATA TYPES AND TYPE CONVERSION"
   ]
  },
  {
   "cell_type": "code",
   "execution_count": 4,
   "id": "dc5dc62b",
   "metadata": {},
   "outputs": [
    {
     "name": "stdout",
     "output_type": "stream",
     "text": [
      "Type of 42 is <class 'int'>\n",
      "Type of 3.14 is <class 'float'>\n",
      "Type of 'Hello' is <class 'str'>\n",
      "Type of [1, 2, 3] is <class 'list'>\n",
      "Type of (1, 2, 3) is <class 'tuple'>\n",
      "Type of {'a': 1, 'b': 2} is <class 'dict'>\n"
     ]
    }
   ],
   "source": [
    "# Exercise 2.1: Print types of different values\n",
    "print(f\"Type of 42 is {type(42)}\")\n",
    "print(f\"Type of 3.14 is {type(3.14)}\")\n",
    "print(f\"Type of 'Hello' is {type('Hello')}\")\n",
    "print(f\"Type of [1, 2, 3] is {type([1, 2, 3])}\")\n",
    "print(f\"Type of (1, 2, 3) is {type((1, 2, 3))}\")\n",
    "print(f\"Type of {{'a': 1, 'b': 2}} is {type({'a': 1, 'b': 2})}\")"
   ]
  },
  {
   "cell_type": "code",
   "execution_count": 7,
   "id": "bf7a67dd",
   "metadata": {},
   "outputs": [
    {
     "name": "stdout",
     "output_type": "stream",
     "text": [
      "Converted age is 25 <class 'int'>\n"
     ]
    }
   ],
   "source": [
    "# Exercise 2.2: Convert string to integer\n",
    "age_string = '25'\n",
    "age_integer = int(age_string)\n",
    "print(f\"Converted age is {age_integer}\", type(age_integer))"
   ]
  },
  {
   "cell_type": "code",
   "execution_count": 8,
   "id": "762df838",
   "metadata": {},
   "outputs": [
    {
     "name": "stdout",
     "output_type": "stream",
     "text": [
      "Combined result is 30.6 <class 'float'>\n"
     ]
    }
   ],
   "source": [
    "# Exercise 2.3: Add integer and float\n",
    "age = 25\n",
    "height = 5.6\n",
    "combined_result = age + height\n",
    "print(f\"Combined result is {combined_result}\", type(combined_result))"
   ]
  },
  {
   "cell_type": "code",
   "execution_count": 10,
   "id": "cb41fd87",
   "metadata": {},
   "outputs": [
    {
     "name": "stdout",
     "output_type": "stream",
     "text": [
      "Repeated text is Habari zenuHabari zenuHabari zenu\n"
     ]
    }
   ],
   "source": [
    "# Exercise 2.4: Multiply string by a number\n",
    "text =\"Habari zenu\"\n",
    "repeated_text = text * 3\n",
    "print(f\"Repeated text is {repeated_text}\")"
   ]
  },
  {
   "cell_type": "code",
   "execution_count": 16,
   "id": "732524f6",
   "metadata": {},
   "outputs": [],
   "source": [
    "# Challenge 2: Number addition program\n",
    "def addition_program():\n",
    "    num1 = input(\"Enter the first number: \")\n",
    "    num2 = input(\"Enter the second number: \")\n",
    "\n",
    "    # Try to convert to float first (handles both int and float)\n",
    "    try:\n",
    "        num1 = float(num1)\n",
    "        num2 = float(num2)\n",
    "\n",
    "        # Convert to int if they are whole numbers\n",
    "        if num1.is_integer():\n",
    "            num1 = int(num1)\n",
    "        if num2.is_integer():\n",
    "            num2 = int(num2)\n",
    "\n",
    "        # Perform the addition\n",
    "        result = num1 + num2\n",
    "        print(f\"The result of adding {num1} and {num2} is {result} of type {type(result)}\")\n",
    "\n",
    "    except ValueError:\n",
    "        print(\"Invalid input. Please enter numeric values.\")\n"
   ]
  },
  {
   "cell_type": "code",
   "execution_count": 17,
   "id": "ea41cd85",
   "metadata": {},
   "outputs": [
    {
     "name": "stdout",
     "output_type": "stream",
     "text": [
      "The result of adding 9 and 6 is 15 of type <class 'int'>\n"
     ]
    }
   ],
   "source": [
    "addition_program()"
   ]
  }
 ],
 "metadata": {
  "kernelspec": {
   "display_name": "Python 3",
   "language": "python",
   "name": "python3"
  },
  "language_info": {
   "codemirror_mode": {
    "name": "ipython",
    "version": 3
   },
   "file_extension": ".py",
   "mimetype": "text/x-python",
   "name": "python",
   "nbconvert_exporter": "python",
   "pygments_lexer": "ipython3",
   "version": "3.12.7"
  }
 },
 "nbformat": 4,
 "nbformat_minor": 5
}
