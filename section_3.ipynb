{
 "cells": [
  {
   "cell_type": "markdown",
   "id": "f2dfbd88",
   "metadata": {},
   "source": [
    "## SECTION 3: DATA STRUCTURES"
   ]
  },
  {
   "cell_type": "code",
   "execution_count": 2,
   "id": "8b1639e3",
   "metadata": {},
   "outputs": [
    {
     "name": "stdout",
     "output_type": "stream",
     "text": [
      "Third fruit: maembe\n"
     ]
    }
   ],
   "source": [
    "# Exercise 3.1: List of fruits\n",
    "fruits = ['ndizi', 'nazi', 'maembe', 'fenesi', 'nanasi']\n",
    "print(f\"Third fruit: {fruits[2]}\")"
   ]
  },
  {
   "cell_type": "code",
   "execution_count": 3,
   "id": "5201ecc3",
   "metadata": {},
   "outputs": [
    {
     "name": "stdout",
     "output_type": "stream",
     "text": [
      "Name: Jamila Muhammad, Age: 28, Residence: Allsops\n"
     ]
    }
   ],
   "source": [
    "# Exercise 3.2: Dictionary\n",
    "person = {\n",
    "    'name': 'Jamila Muhammad',\n",
    "    'age': 28,\n",
    "    'residence': 'Allsops'\n",
    "}\n",
    "print(f\"Name: {person['name']}, Age: {person['age']}, Residence: {person['residence']}\")"
   ]
  },
  {
   "cell_type": "code",
   "execution_count": 7,
   "id": "166f69eb",
   "metadata": {},
   "outputs": [
    {
     "name": "stdout",
     "output_type": "stream",
     "text": [
      "Third fruit: maembe\n",
      "Tuples are immutable, you cannot change their values after creation.\n"
     ]
    }
   ],
   "source": [
    "# Exercise 3.3: Tuple (immutable)\n",
    "fruits_tuple = ('ndizi', 'nazi', 'maembe', 'fenesi', 'nanasi')\n",
    "print(f\"Third fruit: {fruits_tuple[2]}\")  \n",
    "\n",
    "# Uncomment to see the error\n",
    "# fruits_tuple[2] = 'chungwa'  # This will raise a TypeError\n",
    "\n",
    "print(\"Tuples are immutable, you cannot change their values after creation.\")"
   ]
  },
  {
   "cell_type": "code",
   "execution_count": 8,
   "id": "afb968fa",
   "metadata": {},
   "outputs": [
    {
     "name": "stdout",
     "output_type": "stream",
     "text": [
      "Fruits set (duplicates removed): {'fenesi', 'ndizi', 'maembe', 'nanasi', 'nazi'}\n"
     ]
    }
   ],
   "source": [
    "# Exercise 3.4: Set from list with duplicates\n",
    "fruits_with_duplicates = ['ndizi', 'nazi', 'maembe', 'fenesi', 'nanasi', 'ndizi']\n",
    "fruits_set = set(fruits_with_duplicates)\n",
    "print(f\"Fruits set (duplicates removed): {fruits_set}\")"
   ]
  },
  {
   "cell_type": "code",
   "execution_count": 9,
   "id": "e6f349d2",
   "metadata": {},
   "outputs": [],
   "source": [
    "# Challenge 3: User input to list and set\n",
    "def list_to_set():\n",
    "    user_inputs = []\n",
    "\n",
    "    print(\"Enter 5 values:\")\n",
    "    for i in range(5):\n",
    "        value = input(f\"Value {i+1}: \")\n",
    "        user_inputs.append(value)\n",
    "\n",
    "    print(f\"Original list: {user_inputs}\")\n",
    "    unique_values = set(user_inputs)\n",
    "    print(f\"Unique values set: {unique_values}\")\n"
   ]
  },
  {
   "cell_type": "code",
   "execution_count": 10,
   "id": "141ecb63",
   "metadata": {},
   "outputs": [
    {
     "name": "stdout",
     "output_type": "stream",
     "text": [
      "Enter 5 values:\n",
      "Original list: ['1', '2', '3', '4', '5']\n",
      "Unique values set: {'3', '1', '4', '5', '2'}\n"
     ]
    }
   ],
   "source": [
    "list_to_set()"
   ]
  }
 ],
 "metadata": {
  "kernelspec": {
   "display_name": "Python 3",
   "language": "python",
   "name": "python3"
  },
  "language_info": {
   "codemirror_mode": {
    "name": "ipython",
    "version": 3
   },
   "file_extension": ".py",
   "mimetype": "text/x-python",
   "name": "python",
   "nbconvert_exporter": "python",
   "pygments_lexer": "ipython3",
   "version": "3.12.7"
  }
 },
 "nbformat": 4,
 "nbformat_minor": 5
}
